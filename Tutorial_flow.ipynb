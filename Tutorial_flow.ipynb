{
  "nbformat": 4,
  "nbformat_minor": 0,
  "metadata": {
    "colab": {
      "provenance": [],
      "authorship_tag": "ABX9TyNEJusNLCy/tm6DUdinfJ95",
      "include_colab_link": true
    },
    "kernelspec": {
      "name": "python3",
      "display_name": "Python 3"
    },
    "language_info": {
      "name": "python"
    }
  },
  "cells": [
    {
      "cell_type": "markdown",
      "metadata": {
        "id": "view-in-github",
        "colab_type": "text"
      },
      "source": [
        "<a href=\"https://colab.research.google.com/github/NataliaKor/tutorial/blob/main/Tutorial_flow.ipynb\" target=\"_parent\"><img src=\"https://colab.research.google.com/assets/colab-badge.svg\" alt=\"Open In Colab\"/></a>"
      ]
    },
    {
      "cell_type": "code",
      "execution_count": null,
      "metadata": {
        "id": "3DnrQric3GsT"
      },
      "outputs": [],
      "source": [
        "import matplotlib.pyplot as plt\n",
        "import numpy as np\n",
        "\n",
        "import torch\n",
        "from torch import nn\n",
        "from torch import distributions\n",
        "from torch.nn.parameter import Parameter\n",
        "\n",
        "from sklearn import datasets"
      ]
    },
    {
      "cell_type": "markdown",
      "source": [
        "We will implement the simple RealNVP flow, which is based on the combination of the affine transformations and coupling layers."
      ],
      "metadata": {
        "id": "JtzMrdtv6rDV"
      }
    },
    {
      "cell_type": "code",
      "source": [
        "class RealNVP(nn.Module):\n",
        "    def __init__(self, nets, nett, mask, prior):\n",
        "        super(RealNVP, self).__init__()\n",
        "        \n",
        "        self.prior = prior\n",
        "        self.mask = nn.Parameter(mask, requires_grad=False)\n",
        "        self.t = torch.nn.ModuleList([nett() for _ in range(len(masks))])\n",
        "        self.s = torch.nn.ModuleList([nets() for _ in range(len(masks))])\n",
        "        \n",
        "    def g(self, z):\n",
        "        x = z\n",
        "        for i in range(len(self.t)):\n",
        "            x_ = x*self.mask[i]\n",
        "            s = self.s[i](x_)*(1 - self.mask[i])\n",
        "            t = self.t[i](x_)*(1 - self.mask[i])\n",
        "            x = x_ + (1 - self.mask[i]) * (x * torch.exp(s) + t)\n",
        "        return x\n",
        "\n",
        "    def f(self, x):\n",
        "        log_det_J, z = x.new_zeros(x.shape[0]), x\n",
        "        for i in reversed(range(len(self.t))):\n",
        "            z_ = self.mask[i] * z\n",
        "            s = self.s[i](z_) * (1-self.mask[i])\n",
        "            t = self.t[i](z_) * (1-self.mask[i])\n",
        "            z = (1 - self.mask[i]) * (z - t) * torch.exp(-s) + z_\n",
        "            log_det_J -= s.sum(dim=1)\n",
        "        return z, log_det_J\n",
        "    \n",
        "    def log_prob(self,x):\n",
        "        z, logp = self.f(x)\n",
        "        return self.prior.log_prob(z) + logp\n",
        "        \n",
        "    def sample(self, batchSize): \n",
        "        z = self.prior.sample((batchSize, 1))\n",
        "        logp = self.prior.log_prob(z)\n",
        "        x = self.g(z)\n",
        "        return x"
      ],
      "metadata": {
        "id": "epOQ3V7Y5thj"
      },
      "execution_count": null,
      "outputs": []
    },
    {
      "cell_type": "code",
      "source": [
        "nets = lambda: nn.Sequential(nn.Linear(2, 256), nn.LeakyReLU(), nn.Linear(256, 256), nn.LeakyReLU(), nn.Linear(256, 2), nn.Tanh())\n",
        "nett = lambda: nn.Sequential(nn.Linear(2, 256), nn.LeakyReLU(), nn.Linear(256, 256), nn.LeakyReLU(), nn.Linear(256, 2))\n",
        "masks = torch.from_numpy(np.array([[0, 1], [1, 0]] * 3).astype(np.float32))\n",
        "prior = distributions.MultivariateNormal(torch.zeros(2), torch.eye(2))\n",
        "flow = RealNVP(nets, nett, masks, prior)"
      ],
      "metadata": {
        "id": "pAe6RSkb5w89"
      },
      "execution_count": null,
      "outputs": []
    },
    {
      "cell_type": "markdown",
      "source": [
        "Apply it to the standard dataset of halfmoons"
      ],
      "metadata": {
        "id": "Awth1RjA7FOX"
      }
    },
    {
      "cell_type": "code",
      "source": [
        "optimizer = torch.optim.Adam([p for p in flow.parameters() if p.requires_grad==True], lr=1e-4)\n",
        "for t in range(5001):    \n",
        "    noisy_moons = datasets.make_moons(n_samples=100, noise=.05)[0].astype(np.float32)\n",
        "    loss = -flow.log_prob(torch.from_numpy(noisy_moons)).mean()\n",
        "    \n",
        "    optimizer.zero_grad()\n",
        "    loss.backward(retain_graph=True)\n",
        "    optimizer.step()\n",
        "    \n",
        "    if t % 500 == 0:\n",
        "        print('iter %s:' % t, 'loss = %.3f' % loss)"
      ],
      "metadata": {
        "colab": {
          "base_uri": "https://localhost:8080/"
        },
        "id": "lQYwSg6_5y9O",
        "outputId": "b442d5b5-1d6a-49b5-8499-e15d9d1d015b"
      },
      "execution_count": null,
      "outputs": [
        {
          "output_type": "stream",
          "name": "stdout",
          "text": [
            "iter 0: loss = 2.594\n",
            "iter 500: loss = 0.647\n",
            "iter 1000: loss = 0.515\n",
            "iter 1500: loss = 0.423\n",
            "iter 2000: loss = 0.346\n",
            "iter 2500: loss = 0.306\n",
            "iter 3000: loss = 0.499\n",
            "iter 3500: loss = 0.316\n",
            "iter 4000: loss = 0.351\n",
            "iter 4500: loss = 0.333\n",
            "iter 5000: loss = 0.355\n"
          ]
        }
      ]
    },
    {
      "cell_type": "markdown",
      "source": [],
      "metadata": {
        "id": "wSJI7n_E7DW1"
      }
    },
    {
      "cell_type": "code",
      "source": [
        "noisy_moons = datasets.make_moons(n_samples=1000, noise=.05)[0].astype(np.float32)\n",
        "z = flow.f(torch.from_numpy(noisy_moons))[0].detach().numpy()\n",
        "plt.subplot(221)\n",
        "plt.scatter(z[:, 0], z[:, 1])\n",
        "plt.title(r'$z = f(X)$')\n",
        "\n",
        "z = np.random.multivariate_normal(np.zeros(2), np.eye(2), 1000)\n",
        "plt.subplot(222)\n",
        "plt.scatter(z[:, 0], z[:, 1])\n",
        "plt.title(r'$z \\sim p(z)$')\n",
        "\n",
        "plt.subplot(223)\n",
        "x = datasets.make_moons(n_samples=1000, noise=.05)[0].astype(np.float32)\n",
        "plt.scatter(x[:, 0], x[:, 1], c='r')\n",
        "plt.title(r'$X \\sim p(X)$')\n",
        "\n",
        "plt.subplot(224)\n",
        "x = flow.sample(1000).detach().numpy()\n",
        "plt.scatter(x[:, 0, 0], x[:, 0, 1], c='r')\n",
        "plt.title(r'$X = g(z)$')"
      ],
      "metadata": {
        "colab": {
          "base_uri": "https://localhost:8080/",
          "height": 301
        },
        "id": "z4dxQ4bD66Vz",
        "outputId": "d0ac6c54-a770-4434-989c-c27c63860508"
      },
      "execution_count": null,
      "outputs": [
        {
          "output_type": "execute_result",
          "data": {
            "text/plain": [
              "Text(0.5, 1.0, '$X = g(z)$')"
            ]
          },
          "metadata": {},
          "execution_count": 6
        },
        {
          "output_type": "display_data",
          "data": {
            "text/plain": [
              "<Figure size 432x288 with 4 Axes>"
            ],
            "image/png": "[encoded data removed]"
          },
          "metadata": {
            "needs_background": "light"
          }
        }
      ]
    },
    {
      "cell_type": "markdown",
      "source": [
        "How can we condition it on the data?"
      ],
      "metadata": {
        "id": "5rllcykW7L6B"
      }
    },
    {
      "cell_type": "code",
      "source": [
        "class RealNVP(nn.Module):\n",
        "    def __init__(self, nets, nett, mask, prior):\n",
        "        super(RealNVP, self).__init__()\n",
        "        \n",
        "        self.prior = prior\n",
        "        self.mask = nn.Parameter(mask, requires_grad=False)\n",
        "        self.t = torch.nn.ModuleList([nett() for _ in range(len(masks))])\n",
        "        self.s = torch.nn.ModuleList([nets() for _ in range(len(masks))])\n",
        "        \n",
        "    def g(self, z, w):\n",
        "        x = z\n",
        "        for i in range(len(self.t)):\n",
        "            x_ = x*self.mask[i]\n",
        "            x_wf = torch.cat([x_, w],dim=1)\n",
        "            s = self.s[i](x_wf)*(1 - self.mask[i])\n",
        "            t = self.t[i](x_wf)*(1 - self.mask[i])\n",
        "            x = x_ + (1 - self.mask[i]) * (x * torch.exp(s) + t)\n",
        "        return x\n",
        "\n",
        "    def f(self, x, w):\n",
        "        log_det_J, z = x.new_zeros(x.shape[0]), x\n",
        "        for i in reversed(range(len(self.t))):\n",
        "            z_ = self.mask[i] * z\n",
        "            z_wf = torch.cat([z_, w],dim=1)\n",
        "            s = self.s[i](z_wf) * (1-self.mask[i])\n",
        "            t = self.t[i](z_wf) * (1-self.mask[i])\n",
        "            z = (1 - self.mask[i]) * (z - t) * torch.exp(-s) + z_\n",
        "            log_det_J -= s.sum(dim=1)\n",
        "        return z, log_det_J\n",
        "    \n",
        "    def log_prob(self, x, w):\n",
        "        z, logp = self.f(x, w)\n",
        "        return self.prior.log_prob(z) + logp\n",
        "        \n",
        "    def sample(self, batchSize, w): \n",
        "        z = self.prior.sample((batchSize,1))\n",
        "        logp = self.prior.log_prob(z)\n",
        "        x = self.g(z.view(batchSize,-1), w)\n",
        "        return x"
      ],
      "metadata": {
        "id": "j1_Uk-b_7TEF"
      },
      "execution_count": null,
      "outputs": []
    },
    {
      "cell_type": "markdown",
      "source": [
        "Galactic binary waveforms. "
      ],
      "metadata": {
        "id": "CbdfaxuLAYNT"
      }
    },
    {
      "cell_type": "code",
      "source": [],
      "metadata": {
        "id": "_ZgwsR5tAW_U"
      },
      "execution_count": null,
      "outputs": []
    }
  ]
}