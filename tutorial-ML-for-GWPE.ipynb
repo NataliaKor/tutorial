{
  "cells": [
    {
      "cell_type": "markdown",
      "metadata": {
        "id": "view-in-github",
        "colab_type": "text"
      },
      "source": [
        "<a href=\"https://colab.research.google.com/github/NataliaKor/tutorial/blob/main/tutorial-ML-for-GWPE.ipynb\" target=\"_parent\"><img src=\"https://colab.research.google.com/assets/colab-badge.svg\" alt=\"Open In Colab\"/></a>"
      ]
    },
    {
      "cell_type": "markdown",
      "id": "cf826081-c9ef-4aff-ba53-8e9b573ca2d8",
      "metadata": {
        "id": "cf826081-c9ef-4aff-ba53-8e9b573ca2d8"
      },
      "source": [
        "# Tutorial on Machine Learning for Gravitational Wave Parameter Estimation\n",
        "\n",
        "### Stephen Green *stephen.green2@nottingham.ac.uk* and Natalia Korsakova *korsakova@apc.in2p3.fr*\n",
        "\n",
        "---\n",
        "\n",
        "In this tutorial we will build a simple **parameter estimation** neural network:\n",
        "* **Training data:** FastGB waveforms, parametrized only by initial frequency (f0) and amplitude; noise added during training\n",
        "* **Posterior model 1:** Gaussian with learnable (diagonal) covariance matrix\n",
        "* **Posterior model 2:** Learned with the Normalising Flow\n",
        "\n",
        "This should run in about a minute on a laptop (this has to be checked).\n",
        "\n",
        "### Exercises\n",
        "1. Add inclination in addition to f0 and amp\n",
        "2. Extend the Gaussian distribution to include general covariance\n",
        "3. Make a PP plot"
      ]
    },
    {
      "cell_type": "markdown",
      "id": "213733c5-f5c3-484b-a9b0-f15f4a8fb0c3",
      "metadata": {
        "id": "213733c5-f5c3-484b-a9b0-f15f4a8fb0c3"
      },
      "source": [
        "## Imports"
      ]
    },
    {
      "cell_type": "code",
      "source": [
        "!pip install corner"
      ],
      "metadata": {
        "id": "qxk8TFdoBP2Y",
        "outputId": "aeacb1fd-da09-4c40-f882-ec545fc2e2dc",
        "colab": {
          "base_uri": "https://localhost:8080/"
        }
      },
      "id": "qxk8TFdoBP2Y",
      "execution_count": 1,
      "outputs": [
        {
          "output_type": "stream",
          "name": "stdout",
          "text": [
            "Looking in indexes: https://pypi.org/simple, https://us-python.pkg.dev/colab-wheels/public/simple/\n",
            "Collecting corner\n",
            "  Downloading corner-2.2.1-py3-none-any.whl (15 kB)\n",
            "Requirement already satisfied: matplotlib>=2.1 in /usr/local/lib/python3.7/dist-packages (from corner) (3.2.2)\n",
            "Requirement already satisfied: kiwisolver>=1.0.1 in /usr/local/lib/python3.7/dist-packages (from matplotlib>=2.1->corner) (1.4.4)\n",
            "Requirement already satisfied: cycler>=0.10 in /usr/local/lib/python3.7/dist-packages (from matplotlib>=2.1->corner) (0.11.0)\n",
            "Requirement already satisfied: numpy>=1.11 in /usr/local/lib/python3.7/dist-packages (from matplotlib>=2.1->corner) (1.21.6)\n",
            "Requirement already satisfied: pyparsing!=2.0.4,!=2.1.2,!=2.1.6,>=2.0.1 in /usr/local/lib/python3.7/dist-packages (from matplotlib>=2.1->corner) (3.0.9)\n",
            "Requirement already satisfied: python-dateutil>=2.1 in /usr/local/lib/python3.7/dist-packages (from matplotlib>=2.1->corner) (2.8.2)\n",
            "Requirement already satisfied: typing-extensions in /usr/local/lib/python3.7/dist-packages (from kiwisolver>=1.0.1->matplotlib>=2.1->corner) (4.1.1)\n",
            "Requirement already satisfied: six>=1.5 in /usr/local/lib/python3.7/dist-packages (from python-dateutil>=2.1->matplotlib>=2.1->corner) (1.15.0)\n",
            "Installing collected packages: corner\n",
            "Successfully installed corner-2.2.1\n"
          ]
        }
      ]
    },
    {
      "cell_type": "code",
      "execution_count": 3,
      "id": "f04f07d8-352e-4bda-ac61-69356a965e51",
      "metadata": {
        "id": "f04f07d8-352e-4bda-ac61-69356a965e51"
      },
      "outputs": [],
      "source": [
        "import numpy as np\n",
        "import matplotlib.pyplot as plt\n",
        "import corner\n",
        "# Make a check if CPU use np and if GPU use cupy\n",
        "import cupy as cp"
      ]
    },
    {
      "cell_type": "code",
      "execution_count": 4,
      "id": "aa639f0f-2579-4243-aae2-52180187d97b",
      "metadata": {
        "id": "aa639f0f-2579-4243-aae2-52180187d97b"
      },
      "outputs": [],
      "source": [
        "# pytorch imports\n",
        "import torch\n",
        "from torch.utils.data import Dataset, DataLoader, random_split\n",
        "from torch import nn\n",
        "from torch.utils.data import DataLoader"
      ]
    },
    {
      "cell_type": "code",
      "source": [
        "!git clone https://github.com/NataliaKor/GBGPU.git"
      ],
      "metadata": {
        "colab": {
          "base_uri": "https://localhost:8080/"
        },
        "id": "A2xwybJfHGvQ",
        "outputId": "d3f03e79-4eaa-4251-8af0-44f289a4a03f"
      },
      "id": "A2xwybJfHGvQ",
      "execution_count": 5,
      "outputs": [
        {
          "output_type": "stream",
          "name": "stdout",
          "text": [
            "Cloning into 'GBGPU'...\n",
            "remote: Enumerating objects: 1125, done.\u001b[K\n",
            "remote: Counting objects: 100% (299/299), done.\u001b[K\n",
            "remote: Compressing objects: 100% (200/200), done.\u001b[K\n",
            "remote: Total 1125 (delta 140), reused 208 (delta 97), pack-reused 826\u001b[K\n",
            "Receiving objects: 100% (1125/1125), 12.08 MiB | 31.47 MiB/s, done.\n",
            "Resolving deltas: 100% (630/630), done.\n"
          ]
        }
      ]
    },
    {
      "cell_type": "code",
      "source": [
        "from GBGPU.gbgpu.gbgpu import GBGPU\n",
        "from GBGPU.gbgpu.noisemodel import AnalyticNoise "
      ],
      "metadata": {
        "id": "ZF-3zFO1FBrr"
      },
      "id": "ZF-3zFO1FBrr",
      "execution_count": 18,
      "outputs": []
    },
    {
      "cell_type": "code",
      "source": [
        "N_points = None\n",
        "\n",
        "# Create waveform\n",
        "gb = GBGPU(use_gpu=True)\n"
      ],
      "metadata": {
        "id": "Xl8hcdznEfbo"
      },
      "id": "Xl8hcdznEfbo",
      "execution_count": 7,
      "outputs": []
    },
    {
      "cell_type": "markdown",
      "id": "181558eb-0df5-49bb-b773-4d3de235f767",
      "metadata": {
        "id": "181558eb-0df5-49bb-b773-4d3de235f767"
      },
      "source": [
        "## Training data"
      ]
    },
    {
      "cell_type": "markdown",
      "id": "d3836cd8-96a4-4adc-8416-770b30b4e07b",
      "metadata": {
        "id": "d3836cd8-96a4-4adc-8416-770b30b4e07b"
      },
      "source": [
        "Generate a training set that (for simplicity) samples only over amplitudes and frequencies. Generate frequency-domain waveforms using FastGB. We will add noise during training.\n",
        "\n",
        "**Exercise:** Add more parameters"
      ]
    },
    {
      "cell_type": "code",
      "execution_count": 8,
      "id": "49802b93-371b-4463-9469-7d3ce76d9816",
      "metadata": {
        "id": "49802b93-371b-4463-9469-7d3ce76d9816"
      },
      "outputs": [],
      "source": [
        "num_samples = 10000  # size of the training set\n",
        "\n",
        "# Choose something in the lower frequencies\n",
        "f0_min = 0.010062\n",
        "f0_max = 0.010085\n",
        "\n",
        "amp_min = -23.\n",
        "amp_max = -21.\n",
        "\n",
        "# frequency\n",
        "f0 = np.random.uniform(f0_min, f0_max, num_samples)\n",
        "\n",
        "# amplitude\n",
        "amp = 10**np.random.uniform(amp_min, amp_max, num_samples)\n",
        "\n"
      ]
    },
    {
      "cell_type": "code",
      "execution_count": null,
      "id": "4264c0ba-c1bc-4bd6-9931-b6d2bea4c898",
      "metadata": {
        "id": "4264c0ba-c1bc-4bd6-9931-b6d2bea4c898"
      },
      "outputs": [],
      "source": []
    },
    {
      "cell_type": "code",
      "execution_count": 9,
      "id": "658f2fda-270f-4895-8dc6-23079de2b42a",
      "metadata": {
        "id": "658f2fda-270f-4895-8dc6-23079de2b42a"
      },
      "outputs": [],
      "source": [
        "# Fixed parameters\n",
        "\n",
        "fdot = 1.79e-15\n",
        "lam  = 4.36\n",
        "beta = 2.18\n",
        "iota = 0.67\n",
        "phi0 = 5.48\n",
        "psi  = 0.43\n"
      ]
    },
    {
      "cell_type": "code",
      "execution_count": 10,
      "id": "eb451fda-85f5-42d4-93db-0fc0d5fe3dc5",
      "metadata": {
        "id": "eb451fda-85f5-42d4-93db-0fc0d5fe3dc5"
      },
      "outputs": [],
      "source": [
        "# Waveform settings\n",
        "\n",
        "\n",
        "Tobs = 31536000.0\n",
        "dt = 15.0\n",
        "df = 1./Tobs\n",
        "\n",
        "fvec_min = 0.010053\n",
        "fvec_max = 0.010094\n",
        "\n",
        "# Put the waveform in the common frequency band \n",
        "k_min = np.round(fvec_min/df).astype(int)\n",
        "k_max = np.round(fvec_max/df).astype(int)\n",
        "num = k_max - k_min\n",
        "freqs = (np.arange(num) + k_min)*df\n",
        "\n",
        "#f_lower = 20.0\n",
        "#f_final = 1024.0\n",
        "#T = 1.0\n",
        "\n",
        "#delta_f = 1 / T\n",
        "#nf = int(f_final / delta_f) + 1\n",
        "#f_array = np.linspace(0.0, f_final, num=nf)"
      ]
    },
    {
      "cell_type": "code",
      "execution_count": 19,
      "id": "5a6c9114-8c49-4e58-b91d-04ddedd3047a",
      "metadata": {
        "id": "5a6c9114-8c49-4e58-b91d-04ddedd3047a"
      },
      "outputs": [],
      "source": [
        "# Noise PSD\n",
        "\n",
        "noise = AnalyticNoise(freqs)\n",
        "psdA, psdE = noise.psd(option=\"A\"), noise.psd(option=\"E\")\n",
        "\n",
        "#psd[0] = psd[1]  # Fix up endpoints\n",
        "#psd[-1] = psd[-2]\n",
        "\n",
        "asdA = np.sqrt(psdA)\n",
        "asdE = np.sqrt(psdE)"
      ]
    },
    {
      "cell_type": "code",
      "execution_count": 20,
      "id": "5a2aeb73-a658-4804-b528-a0e3abf302bf",
      "metadata": {
        "id": "5a2aeb73-a658-4804-b528-a0e3abf302bf",
        "colab": {
          "base_uri": "https://localhost:8080/",
          "height": 373
        },
        "outputId": "d272199a-8ee3-4d12-d7f9-0e1a10555d3d"
      },
      "outputs": [
        {
          "output_type": "error",
          "ename": "NameError",
          "evalue": "ignored",
          "traceback": [
            "\u001b[0;31m---------------------------------------------------------------------------\u001b[0m",
            "\u001b[0;31mNameError\u001b[0m                                 Traceback (most recent call last)",
            "\u001b[0;32m<ipython-input-20-47d16a156fda>\u001b[0m in \u001b[0;36m<module>\u001b[0;34m\u001b[0m\n\u001b[1;32m      9\u001b[0m \u001b[0;34m\u001b[0m\u001b[0m\n\u001b[1;32m     10\u001b[0m     \u001b[0mparams\u001b[0m \u001b[0;34m=\u001b[0m \u001b[0mnp\u001b[0m\u001b[0;34m.\u001b[0m\u001b[0marray\u001b[0m\u001b[0;34m(\u001b[0m\u001b[0;34m[\u001b[0m\u001b[0mamp\u001b[0m\u001b[0;34m[\u001b[0m\u001b[0mi\u001b[0m\u001b[0;34m]\u001b[0m\u001b[0;34m,\u001b[0m \u001b[0mf0\u001b[0m\u001b[0;34m[\u001b[0m\u001b[0mi\u001b[0m\u001b[0;34m]\u001b[0m\u001b[0;34m,\u001b[0m \u001b[0mfdot\u001b[0m\u001b[0;34m,\u001b[0m \u001b[0;36m0.0\u001b[0m\u001b[0;34m,\u001b[0m \u001b[0;34m-\u001b[0m\u001b[0mphi0\u001b[0m\u001b[0;34m,\u001b[0m \u001b[0miota\u001b[0m\u001b[0;34m,\u001b[0m \u001b[0mpsi\u001b[0m\u001b[0;34m,\u001b[0m \u001b[0mlam\u001b[0m\u001b[0;34m,\u001b[0m \u001b[0mbeta\u001b[0m\u001b[0;34m]\u001b[0m\u001b[0;34m)\u001b[0m\u001b[0;34m\u001b[0m\u001b[0;34m\u001b[0m\u001b[0m\n\u001b[0;32m---> 11\u001b[0;31m     \u001b[0mgb\u001b[0m\u001b[0;34m.\u001b[0m\u001b[0mrun_wave\u001b[0m\u001b[0;34m(\u001b[0m\u001b[0;34m*\u001b[0m\u001b[0mparams\u001b[0m\u001b[0;34m,\u001b[0m \u001b[0mN\u001b[0m \u001b[0;34m=\u001b[0m \u001b[0mN_points\u001b[0m\u001b[0;34m,\u001b[0m \u001b[0mdt\u001b[0m \u001b[0;34m=\u001b[0m \u001b[0mdt\u001b[0m\u001b[0;34m,\u001b[0m \u001b[0mT\u001b[0m \u001b[0;34m=\u001b[0m \u001b[0mTobs\u001b[0m\u001b[0;34m,\u001b[0m \u001b[0moversample\u001b[0m \u001b[0;34m=\u001b[0m \u001b[0;36m1\u001b[0m\u001b[0;34m)\u001b[0m\u001b[0;31m#oversample=2)\u001b[0m\u001b[0;34m\u001b[0m\u001b[0;34m\u001b[0m\u001b[0m\n\u001b[0m\u001b[1;32m     12\u001b[0m \u001b[0;34m\u001b[0m\u001b[0m\n\u001b[1;32m     13\u001b[0m     \u001b[0;31m#hp, hc = get_fd_waveform(approximant=approximant,\u001b[0m\u001b[0;34m\u001b[0m\u001b[0;34m\u001b[0m\u001b[0;34m\u001b[0m\u001b[0m\n",
            "\u001b[0;32m/content/GBGPU/gbgpu/gbgpu.py\u001b[0m in \u001b[0;36mrun_wave\u001b[0;34m(self, amp, f0, fdot, fddot, phi0, iota, psi, lam, beta, N, T, dt, oversample, tdi2, *args)\u001b[0m\n\u001b[1;32m    181\u001b[0m                 \u001b[0mN_temp\u001b[0m \u001b[0;34m=\u001b[0m \u001b[0mself\u001b[0m\u001b[0;34m.\u001b[0m\u001b[0mspecial_get_N\u001b[0m\u001b[0;34m(\u001b[0m\u001b[0mamp\u001b[0m\u001b[0;34m,\u001b[0m \u001b[0mf0\u001b[0m\u001b[0;34m,\u001b[0m \u001b[0mT\u001b[0m\u001b[0;34m,\u001b[0m \u001b[0;34m*\u001b[0m\u001b[0margs\u001b[0m\u001b[0;34m,\u001b[0m \u001b[0moversample\u001b[0m\u001b[0;34m=\u001b[0m\u001b[0moversample\u001b[0m\u001b[0;34m)\u001b[0m\u001b[0;34m\u001b[0m\u001b[0;34m\u001b[0m\u001b[0m\n\u001b[1;32m    182\u001b[0m             \u001b[0;32melse\u001b[0m\u001b[0;34m:\u001b[0m\u001b[0;34m\u001b[0m\u001b[0;34m\u001b[0m\u001b[0m\n\u001b[0;32m--> 183\u001b[0;31m                 \u001b[0mN_temp\u001b[0m \u001b[0;34m=\u001b[0m \u001b[0mget_N\u001b[0m\u001b[0;34m(\u001b[0m\u001b[0mamp\u001b[0m\u001b[0;34m,\u001b[0m \u001b[0mf0\u001b[0m\u001b[0;34m,\u001b[0m \u001b[0mT\u001b[0m\u001b[0;34m,\u001b[0m \u001b[0moversample\u001b[0m\u001b[0;34m=\u001b[0m\u001b[0moversample\u001b[0m\u001b[0;34m)\u001b[0m\u001b[0;34m\u001b[0m\u001b[0;34m\u001b[0m\u001b[0m\n\u001b[0m\u001b[1;32m    184\u001b[0m             \u001b[0mN\u001b[0m \u001b[0;34m=\u001b[0m \u001b[0mN_temp\u001b[0m\u001b[0;34m.\u001b[0m\u001b[0mmax\u001b[0m\u001b[0;34m(\u001b[0m\u001b[0;34m)\u001b[0m\u001b[0;34m\u001b[0m\u001b[0;34m\u001b[0m\u001b[0m\n\u001b[1;32m    185\u001b[0m \u001b[0;34m\u001b[0m\u001b[0m\n",
            "\u001b[0;31mNameError\u001b[0m: name 'get_N' is not defined"
          ]
        }
      ],
      "source": [
        "# Generate training waveforms\n",
        "\n",
        "A_list = []\n",
        "E_list = []\n",
        "\n",
        "for i in range(num_samples):\n",
        "    \n",
        "    #mass1, mass2 = masses[i]\n",
        "\n",
        "    params = np.array([amp[i], f0[i], fdot, 0.0, -phi0, iota, psi, lam, beta])\n",
        "    gb.run_wave(*params, N = N_points, dt = dt, T = Tobs, oversample = 1)#oversample=2)\n",
        "    \n",
        "    #hp, hc = get_fd_waveform(approximant=approximant,\n",
        "    #                         mass1=mass1, mass2=mass2,\n",
        "    #                         inclination=inclination,\n",
        "    #                         distance=distance,\n",
        "    #                         coa_phase = phase,\n",
        "    #                         spin1x=spin1x, spin1y=spin1y, spin1z=spin1z,\n",
        "    #                         spin2x=spin2x, spin2y=spin2y, spin2z=spin2z,        \n",
        "    #                         delta_f=delta_f,\n",
        "    #                         f_lower=f_lower, f_final=f_final)\n",
        "    \n",
        "    #f_array = np.array(hp.sample_frequencies)\n",
        "    \n",
        "    i_start = (gb.start_inds.get() - k_min).astype(np.int32)\n",
        "    i_end = (gb.start_inds.get() - k_min + gb.N).astype(np.int32)\n",
        "\n",
        "    A_out = cp.zeros((1, num), dtype=cp.complex128)\n",
        "    E_out = cp.zeros((1, num), dtype=cp.complex128)\n",
        "\n",
        "    # Put waveforms in the same frequency range\n",
        "    A_out[i_start : i_end] = gb.A\n",
        "    E_out[i_start : i_end] = gb.E\n",
        "\n",
        "    # Whiten waveforms and rescale so that white noise has unit variance\n",
        "    #hp = hp / asd * np.sqrt(4.0 * delta_f)\n",
        "    #hc = hc / asd * np.sqrt(4.0 * delta_f)\n",
        "    A_white = A_out * cp.sqrt(4.0 * df)* dt/cp.array(asdA)\n",
        "    E_white = E_out * cp.sqrt(4.0 * df)* dt/cp.array(asdE)\n",
        "\n",
        "    A_list.append(A_white)\n",
        "    E_list.append(E_white)\n",
        "\n",
        "Awf = np.array(A_list)\n",
        "Ewf = np.array(E_list)"
      ]
    },
    {
      "cell_type": "code",
      "execution_count": null,
      "id": "93b603a8-ce6e-4202-a2e5-c85175fb308c",
      "metadata": {
        "id": "93b603a8-ce6e-4202-a2e5-c85175fb308c"
      },
      "outputs": [],
      "source": [
        "# Sample waveform\n",
        "\n",
        "plt.plot(f_array, Awf[0].real)\n",
        "plt.xscale('log')\n",
        "plt.xlabel('$f$')\n",
        "plt.ylabel('Re $A$')\n",
        "#plt.xlim((10, f_final))\n",
        "plt.show()"
      ]
    },
    {
      "cell_type": "markdown",
      "id": "2b6a557d-38c1-41a6-a038-419f0d13425d",
      "metadata": {
        "id": "2b6a557d-38c1-41a6-a038-419f0d13425d"
      },
      "source": [
        "### Package into a pytorch Dataset"
      ]
    },
    {
      "cell_type": "code",
      "execution_count": null,
      "id": "921f457f-3256-43c8-9e99-9ee958462c65",
      "metadata": {
        "id": "921f457f-3256-43c8-9e99-9ee958462c65"
      },
      "outputs": [],
      "source": [
        "# Parameters\n",
        "#\n",
        "\n",
        "#m1 = masses[:, 0]\n",
        "#m2 = masses[:, 1]\n",
        "\n",
        "#Mc = (m1 * m2)**(3/5) / (m1 + m2)**(1/35)\n",
        "#q = m2 / m1\n",
        "\n",
        "#parameters = np.stack((Mc, q), axis=1).astype(np.float32)\n",
        "parameters = np.stack((f0, amp), axis=1).astype(np.float32)"
      ]
    },
    {
      "cell_type": "code",
      "execution_count": null,
      "id": "583a1d63-01d0-42db-bbf2-7db0adc598a9",
      "metadata": {
        "id": "583a1d63-01d0-42db-bbf2-7db0adc598a9"
      },
      "outputs": [],
      "source": [
        "# For best training, parameters should be standardized (zero mean, unit variance across the training set)\n",
        "\n",
        "parameters_mean = np.mean(parameters, axis=0)\n",
        "parameters_std = np.std(parameters, axis=0)\n",
        "\n",
        "parameters_standardized = (parameters - parameters_mean) / parameters_std"
      ]
    },
    {
      "cell_type": "code",
      "execution_count": null,
      "id": "27b6bd1a-040f-4bf1-99c9-284ce01fa049",
      "metadata": {
        "id": "27b6bd1a-040f-4bf1-99c9-284ce01fa049"
      },
      "outputs": [],
      "source": [
        "# Waveforms\n",
        "#\n",
        "# Truncate the arrays to remove zeros below f_lower, and repackage real and imaginary parts\n",
        "#\n",
        "# Only consider h_plus for now\n",
        "\n",
        "#lower_cut = int(f_lower / delta_f)\n",
        "#waveforms = np.hstack((hp.real[:, lower_cut:], hp.imag[:, lower_cut:])).astype(np.float32)\n",
        "waveforms = np.hstack((Awf.real[:, :], Awf.imag[:, :]), Ewf.real[:, :], Ewf.imag[:, :]).astype(np.float32)"
      ]
    },
    {
      "cell_type": "code",
      "execution_count": null,
      "id": "5ee096ac-93b8-4725-bec5-2268ab416d37",
      "metadata": {
        "id": "5ee096ac-93b8-4725-bec5-2268ab416d37"
      },
      "outputs": [],
      "source": [
        "class WaveformDataset(Dataset):\n",
        "    \n",
        "    def __init__(self, parameters, waveforms):\n",
        "        self.parameters = parameters\n",
        "        self.waveforms = waveforms\n",
        "\n",
        "    def __len__(self):\n",
        "        return len(self.parameters)\n",
        "\n",
        "    def __getitem__(self, idx):\n",
        "        params = self.parameters[idx]\n",
        "        signal = self.waveforms[idx]\n",
        "        \n",
        "        # Add unit normal noise to the signal\n",
        "        noise = np.random.normal(size = signal.shape).astype(np.float32)\n",
        "        data = signal + noise\n",
        "        \n",
        "        return torch.tensor(data), torch.tensor(params)"
      ]
    },
    {
      "cell_type": "code",
      "execution_count": null,
      "id": "9962f84b-f12b-42e8-ad63-d713fd026c66",
      "metadata": {
        "id": "9962f84b-f12b-42e8-ad63-d713fd026c66"
      },
      "outputs": [],
      "source": [
        "waveform_dataset = WaveformDataset(parameters_standardized, waveforms)"
      ]
    },
    {
      "cell_type": "code",
      "execution_count": null,
      "id": "94b3df66-380e-475e-805e-bd8c0adb32dc",
      "metadata": {
        "id": "94b3df66-380e-475e-805e-bd8c0adb32dc"
      },
      "outputs": [],
      "source": [
        "# We can sample from the WaveformDataset. This gives us pairs of data and parameters, different noise realizations each time.\n",
        "\n",
        "x, y = waveform_dataset[0]\n",
        "plt.plot(x)"
      ]
    },
    {
      "cell_type": "markdown",
      "id": "cd5a15e1-7686-4f4d-a02c-23b6d035833a",
      "metadata": {
        "id": "cd5a15e1-7686-4f4d-a02c-23b6d035833a"
      },
      "source": [
        "## Posterior Model"
      ]
    },
    {
      "cell_type": "code",
      "execution_count": null,
      "id": "a30d2fb4-969c-4c83-ba1d-ffcb0024e6a1",
      "metadata": {
        "id": "a30d2fb4-969c-4c83-ba1d-ffcb0024e6a1"
      },
      "outputs": [],
      "source": [
        "# Neural networks are constructed by subclassing nn.Module\n",
        "#\n",
        "# This has to implement an __init__() and forward() method\n",
        "\n",
        "class NeuralNetwork(nn.Module):\n",
        "    \n",
        "    def __init__(self, input_dim, hidden_dims, output_dim, activation=nn.ReLU()):\n",
        "        super(NeuralNetwork, self).__init__()\n",
        "        \n",
        "        # Hidden layers\n",
        "        hidden_net_list = []\n",
        "        hidden_net_list.append(\n",
        "            nn.Linear(input_dim, hidden_dims[0]))\n",
        "        for i in range(1, len(hidden_dims)):\n",
        "            hidden_net_list.append(nn.Linear(hidden_dims[i-1], hidden_dims[i]))\n",
        "        self.hidden_net_list = nn.ModuleList(hidden_net_list)\n",
        "        \n",
        "        # Output layers\n",
        "        self.output_mean = nn.Linear(hidden_dims[-1], output_dim)\n",
        "        self.output_log_sigma = nn.Linear(hidden_dims[-1], output_dim)\n",
        "        \n",
        "        # Activation function\n",
        "        self.activation = activation\n",
        "        \n",
        "    def forward(self, x):\n",
        "        \"\"\"Pass x through all the layers of the network and return the Gaussian distribution\"\"\"\n",
        "        \n",
        "        h = x\n",
        "        for layer in self.hidden_net_list:\n",
        "            h = self.activation(layer(h))\n",
        "\n",
        "        # Output layer defines a Gaussian\n",
        "        mean = self.output_mean(h)\n",
        "        log_sigma = self.output_log_sigma(h)\n",
        "        sigma = torch.exp(log_sigma)\n",
        "        \n",
        "        # Create the Gaussian distribution\n",
        "        dist = torch.distributions.MultivariateNormal(loc=mean, scale_tril=torch.diag_embed(sigma))\n",
        "        \n",
        "        return dist"
      ]
    },
    {
      "cell_type": "code",
      "execution_count": null,
      "id": "6d7cdfa4-1fe8-4993-a5f0-311889bba38d",
      "metadata": {
        "id": "6d7cdfa4-1fe8-4993-a5f0-311889bba38d"
      },
      "outputs": [],
      "source": [
        "input_dim = waveforms.shape[-1]\n",
        "output_dim = parameters.shape[-1]\n",
        "hidden_dims = [512, 256, 128, 64, 32]\n",
        "\n",
        "model = NeuralNetwork(input_dim, hidden_dims, output_dim)"
      ]
    },
    {
      "cell_type": "code",
      "execution_count": null,
      "id": "b59d8148-32b1-4a46-952f-7625d1a32eac",
      "metadata": {
        "id": "b59d8148-32b1-4a46-952f-7625d1a32eac"
      },
      "outputs": [],
      "source": [
        "print(model)"
      ]
    },
    {
      "cell_type": "markdown",
      "id": "7ee627d9-db98-4d9f-82f6-99e51264de02",
      "metadata": {
        "id": "7ee627d9-db98-4d9f-82f6-99e51264de02"
      },
      "source": [
        "## Training"
      ]
    },
    {
      "cell_type": "code",
      "execution_count": null,
      "id": "232f5f26-796f-484c-b52c-a035090ecb02",
      "metadata": {
        "tags": [],
        "id": "232f5f26-796f-484c-b52c-a035090ecb02"
      },
      "outputs": [],
      "source": [
        "# Split the dataset into training and test sets\n",
        "\n",
        "train_fraction = 0.8\n",
        "num_train = int(round(train_fraction * num_samples))\n",
        "num_test = num_samples - num_train\n",
        "train_dataset, test_dataset = random_split(waveform_dataset, [num_train, num_test])\n",
        "\n",
        "# The DataLoader is used in training\n",
        "\n",
        "train_dataloader = DataLoader(train_dataset, batch_size=64, shuffle=True)\n",
        "test_dataloader = DataLoader(test_dataset, batch_size=64, shuffle=False)"
      ]
    },
    {
      "cell_type": "code",
      "execution_count": null,
      "id": "16304af3-c970-416a-8520-1db669330f4c",
      "metadata": {
        "id": "16304af3-c970-416a-8520-1db669330f4c"
      },
      "outputs": [],
      "source": [
        "# The DataLoaders iterate over samples, returning torch tensors containing a batch of data\n",
        "\n",
        "train_features, train_labels = next(iter(train_dataloader))"
      ]
    },
    {
      "cell_type": "code",
      "execution_count": null,
      "id": "502834d2-fb64-484a-8fa6-3616e3633a87",
      "metadata": {
        "id": "502834d2-fb64-484a-8fa6-3616e3633a87"
      },
      "outputs": [],
      "source": [
        "train_features"
      ]
    },
    {
      "cell_type": "code",
      "execution_count": null,
      "id": "ef5541e3-1a5a-435c-b0f2-98b8bddcfb9e",
      "metadata": {
        "id": "ef5541e3-1a5a-435c-b0f2-98b8bddcfb9e"
      },
      "outputs": [],
      "source": [
        "train_features.shape"
      ]
    },
    {
      "cell_type": "code",
      "execution_count": null,
      "id": "3ff8e2e9-f485-485d-8bc2-fc31d74afe18",
      "metadata": {
        "id": "3ff8e2e9-f485-485d-8bc2-fc31d74afe18"
      },
      "outputs": [],
      "source": [
        "# We use the Adam optimizer.\n",
        "\n",
        "optimizer = torch.optim.Adam(model.parameters())"
      ]
    },
    {
      "cell_type": "code",
      "execution_count": null,
      "id": "594b543d-e129-4845-ace5-f6a387d6ad41",
      "metadata": {
        "id": "594b543d-e129-4845-ace5-f6a387d6ad41"
      },
      "outputs": [],
      "source": [
        "# Training and test loops\n",
        "\n",
        "def train_loop(dataloader, model, optimizer):\n",
        " \n",
        "    size = len(dataloader.dataset)\n",
        "    train_loss = 0\n",
        "    \n",
        "    for batch, (X, y) in enumerate(dataloader):\n",
        "        # Compute negative log probability loss\n",
        "        dist = model(X)        \n",
        "        loss = - dist.log_prob(y)\n",
        "        \n",
        "        train_loss += loss.detach().sum()\n",
        "        loss = loss.mean()\n",
        "\n",
        "        # Backpropagation\n",
        "        optimizer.zero_grad()\n",
        "        loss.backward()\n",
        "        optimizer.step()\n",
        "\n",
        "        if batch % 50 == 0:\n",
        "            loss, current = loss.item(), batch * len(X)\n",
        "            print(f\"Loss: {loss:>7f}  [{current:>5d}/{size:>5d} samples]\")\n",
        "            \n",
        "    average_loss = train_loss.item() / size\n",
        "    print('Average loss: {:.4f}'.format(average_loss))\n",
        "    return average_loss\n",
        "            \n",
        "        \n",
        "        \n",
        "def test_loop(dataloader, model):\n",
        "    size = len(dataloader.dataset)\n",
        "    test_loss = 0\n",
        "\n",
        "    with torch.no_grad():\n",
        "        for X, y in dataloader:\n",
        "            dist = model(X)\n",
        "            loss = - dist.log_prob(y)\n",
        "            test_loss += loss.sum()\n",
        "\n",
        "    test_loss /= size\n",
        "    print(f\"Test loss: {test_loss:>8f} \\n\")\n",
        "    return test_loss"
      ]
    },
    {
      "cell_type": "code",
      "execution_count": null,
      "id": "19a8d1ff-461a-4e1b-a11f-82946561b876",
      "metadata": {
        "id": "19a8d1ff-461a-4e1b-a11f-82946561b876"
      },
      "outputs": [],
      "source": [
        "epochs = 20\n",
        "train_history = []\n",
        "test_history = []\n",
        "for t in range(epochs):\n",
        "    print(f\"Epoch {t+1}\\n-------------------------------\")\n",
        "    loss = train_loop(train_dataloader, model, optimizer)\n",
        "    train_history.append(loss)\n",
        "    loss = test_loop(test_dataloader, model)\n",
        "    test_history.append(loss)\n",
        "print(\"Done!\")"
      ]
    },
    {
      "cell_type": "code",
      "execution_count": null,
      "id": "33e2c6a2-9541-408a-9ff8-b2273da49e09",
      "metadata": {
        "id": "33e2c6a2-9541-408a-9ff8-b2273da49e09"
      },
      "outputs": [],
      "source": [
        "epochs = np.arange(1, len(train_history) + 1)\n",
        "plt.plot(epochs, train_history, label = 'train loss')\n",
        "plt.plot(epochs, test_history, label = 'test loss')\n",
        "plt.xlabel('Epoch')\n",
        "plt.ylabel('Loss')\n",
        "plt.legend()\n",
        "plt.show()"
      ]
    },
    {
      "cell_type": "markdown",
      "id": "6c9d14a1-eb3f-4bbb-8c84-afee8077f928",
      "metadata": {
        "id": "6c9d14a1-eb3f-4bbb-8c84-afee8077f928"
      },
      "source": [
        "\n",
        "\n",
        "```\n",
        "# This is formatted as code\n",
        "```\n",
        "\n",
        "## Evaluation"
      ]
    },
    {
      "cell_type": "markdown",
      "id": "c7639f37-f16d-4a64-b626-ed30d0111397",
      "metadata": {
        "id": "c7639f37-f16d-4a64-b626-ed30d0111397"
      },
      "source": [
        "### Posterior plots"
      ]
    },
    {
      "cell_type": "code",
      "execution_count": null,
      "id": "509c6a64-cee3-4ff8-9683-59fd24abe223",
      "metadata": {
        "id": "509c6a64-cee3-4ff8-9683-59fd24abe223"
      },
      "outputs": [],
      "source": [
        "num_posteriors = 10\n",
        "num_samples = 10000\n",
        "\n",
        "for n in range(num_posteriors):\n",
        "    test_x, test_y = test_dataset[n]\n",
        "\n",
        "    # Predict a posterior\n",
        "    dist = model(test_x)\n",
        "\n",
        "    # Sample the posterior\n",
        "    pred_samples = dist.sample((10000,)).numpy()\n",
        "\n",
        "    # Undo the standardization\n",
        "    pred_samples = parameters_std * pred_samples + parameters_mean\n",
        "    truth = parameters_std * test_y.numpy() + parameters_mean\n",
        "\n",
        "    # Plot\n",
        "    corner.corner(pred_samples, truths=truth, labels=['$f0$', '$amp$'])\n",
        "    plt.show()"
      ]
    },
    {
      "cell_type": "markdown",
      "source": [
        "Implement RealNVP Normalising flow (https://arxiv.org/abs/1605.08803).\n",
        "\n"
      ],
      "metadata": {
        "id": "6c6k9N8VvSZ9"
      },
      "id": "6c6k9N8VvSZ9"
    },
    {
      "cell_type": "markdown",
      "source": [
        "![image.png](data:image/png;base64,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)"
      ],
      "metadata": {
        "id": "up7wT116wLFJ"
      },
      "id": "up7wT116wLFJ"
    },
    {
      "cell_type": "markdown",
      "source": [
        "Functions **s** and **t** should be parameterised by the Neural Network.  \n",
        "Base distribution is chosen to be Gaussian Multivariate Distribution."
      ],
      "metadata": {
        "id": "qxj4F7Y5ySca"
      },
      "id": "qxj4F7Y5ySca"
    },
    {
      "cell_type": "code",
      "source": [
        "nets = lambda: nn.Sequential(nn.Linear(2, 256), nn.LeakyReLU(), nn.Linear(256, 256), nn.LeakyReLU(), nn.Linear(256, 2), nn.Tanh())\n",
        "nett = lambda: nn.Sequential(nn.Linear(2, 256), nn.LeakyReLU(), nn.Linear(256, 256), nn.LeakyReLU(), nn.Linear(256, 2))\n",
        "masks = torch.from_numpy(np.array([[0, 1], [1, 0]] * 3).astype(np.float32))\n",
        "prior = distributions.MultivariateNormal(torch.zeros(2), torch.eye(2))"
      ],
      "metadata": {
        "id": "7Jtk5NlKxoV5"
      },
      "id": "7Jtk5NlKxoV5",
      "execution_count": null,
      "outputs": []
    },
    {
      "cell_type": "code",
      "source": [
        "class RealNVP(nn.Module):\n",
        "    def __init__(self, nets, nett, mask, prior):\n",
        "        super(RealNVP, self).__init__()\n",
        "        \n",
        "        self.prior = prior\n",
        "        self.mask = nn.Parameter(mask, requires_grad=False)\n",
        "        self.t = torch.nn.ModuleList([nett() for _ in range(len(masks))])\n",
        "        self.s = torch.nn.ModuleList([nets() for _ in range(len(masks))])\n",
        "        \n",
        "    def g(self, z):\n",
        "        x = z\n",
        "        for i in range(len(self.t)):\n",
        "            x_ = x*self.mask[i]\n",
        "            s = self.s[i](x_)*(1 - self.mask[i])\n",
        "            t = self.t[i](x_)*(1 - self.mask[i])\n",
        "            x = x_ + (1 - self.mask[i]) * (x * torch.exp(s) + t)\n",
        "        return x\n",
        "\n",
        "    def f(self, x):\n",
        "        log_det_J, z = x.new_zeros(x.shape[0]), x\n",
        "        for i in reversed(range(len(self.t))):\n",
        "            z_ = self.mask[i] * z\n",
        "            s = self.s[i](z_) * (1-self.mask[i])\n",
        "            t = self.t[i](z_) * (1-self.mask[i])\n",
        "            z = (1 - self.mask[i]) * (z - t) * torch.exp(-s) + z_\n",
        "            log_det_J -= s.sum(dim=1)\n",
        "        return z, log_det_J\n",
        "    \n",
        "    def log_prob(self,x):\n",
        "        z, logp = self.f(x)\n",
        "        return self.prior.log_prob(z) + logp\n",
        "        "
      ],
      "metadata": {
        "id": "DsLwxNY-j2LJ"
      },
      "id": "DsLwxNY-j2LJ",
      "execution_count": null,
      "outputs": []
    },
    {
      "cell_type": "code",
      "source": [
        "flow = RealNVP(nets, nett, masks, prior)"
      ],
      "metadata": {
        "id": "w-0jVea3y7Ut"
      },
      "id": "w-0jVea3y7Ut",
      "execution_count": null,
      "outputs": []
    },
    {
      "cell_type": "markdown",
      "source": [
        "Choose optimiser.  \n",
        "Define loss function.  \n",
        "Choose dataset to demonstrate the performance."
      ],
      "metadata": {
        "id": "zsd6cWM2zB7u"
      },
      "id": "zsd6cWM2zB7u"
    },
    {
      "cell_type": "code",
      "source": [
        "optimizer = torch.optim.Adam([p for p in flow.parameters() if p.requires_grad==True], lr=1e-4)\n",
        "for t in range(5001):    \n",
        "    noisy_moons = datasets.make_moons(n_samples=100, noise=.05)[0].astype(np.float32)\n",
        "    loss = -flow.log_prob(torch.from_numpy(noisy_moons)).mean()\n",
        "    \n",
        "    optimizer.zero_grad()\n",
        "    loss.backward(retain_graph=True)\n",
        "    optimizer.step()\n",
        "    \n",
        "    if t % 500 == 0:\n",
        "        print('iter %s:' % t, 'loss = %.3f' % loss)"
      ],
      "metadata": {
        "id": "THquBe-ly9yF"
      },
      "id": "THquBe-ly9yF",
      "execution_count": null,
      "outputs": []
    },
    {
      "cell_type": "markdown",
      "source": [
        "Plot the results."
      ],
      "metadata": {
        "id": "K7eI0N0zzKHt"
      },
      "id": "K7eI0N0zzKHt"
    },
    {
      "cell_type": "code",
      "source": [
        "noisy_moons = datasets.make_moons(n_samples=1000, noise=.05)[0].astype(np.float32)\n",
        "z = flow.f(torch.from_numpy(noisy_moons))[0].detach().numpy()\n",
        "plt.subplot(221)\n",
        "plt.scatter(z[:, 0], z[:, 1])\n",
        "plt.title(r'$z = f(X)$')\n",
        "\n",
        "z = np.random.multivariate_normal(np.zeros(2), np.eye(2), 1000)\n",
        "plt.subplot(222)\n",
        "plt.scatter(z[:, 0], z[:, 1])\n",
        "plt.title(r'$z \\sim p(z)$')\n",
        "\n",
        "plt.subplot(223)\n",
        "x = datasets.make_moons(n_samples=1000, noise=.05)[0].astype(np.float32)\n",
        "plt.scatter(x[:, 0], x[:, 1], c='r')\n",
        "plt.title(r'$X \\sim p(X)$')\n",
        "\n",
        "plt.subplot(224)\n",
        "x = flow.sample(1000).detach().numpy()\n",
        "plt.scatter(x[:, 0, 0], x[:, 0, 1], c='r')\n",
        "plt.title(r'$X = g(z)$')"
      ],
      "metadata": {
        "id": "OVi4CFiHzNk1"
      },
      "id": "OVi4CFiHzNk1",
      "execution_count": null,
      "outputs": []
    },
    {
      "cell_type": "markdown",
      "source": [
        "Rewrite the flow conditioning it on the data."
      ],
      "metadata": {
        "id": "iucdhqwazQS-"
      },
      "id": "iucdhqwazQS-"
    },
    {
      "cell_type": "code",
      "source": [
        "class RealNVP(nn.Module):\n",
        "    def __init__(self, nets, nett, mask, prior):\n",
        "        super(RealNVP, self).__init__()\n",
        "        \n",
        "        self.prior = prior\n",
        "        self.mask = nn.Parameter(mask, requires_grad=False)\n",
        "        self.t = torch.nn.ModuleList([nett() for _ in range(len(masks))])\n",
        "        self.s = torch.nn.ModuleList([nets() for _ in range(len(masks))])\n",
        "        \n",
        "    def g(self, z, w):\n",
        "        x = z\n",
        "        for i in range(len(self.t)):\n",
        "            x_ = x*self.mask[i]\n",
        "            x_wf = torch.cat([x_, w],dim=1)\n",
        "            s = self.s[i](x_wf)*(1 - self.mask[i])\n",
        "            t = self.t[i](x_wf)*(1 - self.mask[i])\n",
        "            x = x_ + (1 - self.mask[i]) * (x * torch.exp(s) + t)\n",
        "        return x\n",
        "\n",
        "    def f(self, x, w):\n",
        "        log_det_J, z = x.new_zeros(x.shape[0]), x\n",
        "        for i in reversed(range(len(self.t))):\n",
        "            z_ = self.mask[i] * z\n",
        "            z_wf = torch.cat([z_, w],dim=1)\n",
        "            s = self.s[i](z_wf) * (1-self.mask[i])\n",
        "            t = self.t[i](z_wf) * (1-self.mask[i])\n",
        "            z = (1 - self.mask[i]) * (z - t) * torch.exp(-s) + z_\n",
        "            log_det_J -= s.sum(dim=1)\n",
        "        return z, log_det_J\n",
        "    \n",
        "    def log_prob(self, x, w):\n",
        "        z, logp = self.f(x, w)\n",
        "        return self.prior.log_prob(z) + logp\n",
        "        \n"
      ],
      "metadata": {
        "id": "mFu9U9pA1-xS"
      },
      "id": "mFu9U9pA1-xS",
      "execution_count": null,
      "outputs": []
    }
  ],
  "metadata": {
    "kernelspec": {
      "display_name": "Python 3 (ipykernel)",
      "language": "python",
      "name": "python3"
    },
    "language_info": {
      "codemirror_mode": {
        "name": "ipython",
        "version": 3
      },
      "file_extension": ".py",
      "mimetype": "text/x-python",
      "name": "python",
      "nbconvert_exporter": "python",
      "pygments_lexer": "ipython3",
      "version": "3.9.4"
    },
    "colab": {
      "provenance": [],
      "collapsed_sections": [],
      "include_colab_link": true
    },
    "accelerator": "GPU",
    "gpuClass": "standard"
  },
  "nbformat": 4,
  "nbformat_minor": 5
}